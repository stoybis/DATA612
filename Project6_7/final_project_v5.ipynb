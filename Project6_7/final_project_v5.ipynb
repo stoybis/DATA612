{
  "cells": [
    {
      "cell_type": "code",
      "source": [
        "#%pip uninstall -y numpy"
      ],
      "outputs": [],
      "execution_count": 1,
      "metadata": {
        "gather": {
          "logged": 1752973662685
        }
      }
    },
    {
      "cell_type": "code",
      "source": [
        "#%pip install \\\n",
        "#  --upgrade --force-reinstall \\\n",
        "#  \"numpy<2.0\" \\\n",
        "#  pyarrow \\\n",
        "#  scikit-learn \\\n",
        "#  matplotlib \\\n",
        "#  seaborn"
      ],
      "outputs": [],
      "execution_count": 2,
      "metadata": {
        "gather": {
          "logged": 1752973663261
        }
      }
    },
    {
      "cell_type": "markdown",
      "source": [
        "# Project 6 and 7"
      ],
      "metadata": {
        "nteract": {
          "transient": {
            "deleting": false
          }
        }
      }
    },
    {
      "cell_type": "markdown",
      "source": [
        "For my final project, encompassing project 6 and 7, I will work with the [Book Recommendation Dataset](https://www.kaggle.com/datasets/arashnic/book-recommendation-dataset?select=Ratings.csv).\n",
        "\n",
        "To cover Project 6, I used Blob Storage on Azure to store the required data files and created a compute instance on Azure Machine Learning Studio in order to run code. Lastly, Storage Account that contains the blob is only available via a private endpoint, to ensure that only authorized users have access.\n",
        "\n",
        "To cover Project 7, the dataset is large (1M+ entries). Furthermore, I will use Spark to run ALS and I will also use the recommender package that is available on Azure ML to train a model.\n",
        "\n",
        "The goal will be to create recommendation models that can predict user ratings for items with a high accuracy, measured by metrics such as RMSE, MSE, and MAE.\n",
        "\n"
      ],
      "metadata": {
        "nteract": {
          "transient": {
            "deleting": false
          }
        }
      }
    },
    {
      "cell_type": "code",
      "source": [
        "import numpy as np\n",
        "#print(np.__version__)    \n",
        "\n",
        "import pyarrow       \n",
        "import sklearn        \n",
        "import matplotlib.pyplot as plt\n",
        "import seaborn as sns"
      ],
      "outputs": [],
      "execution_count": 3,
      "metadata": {
        "gather": {
          "logged": 1752973664137
        }
      }
    },
    {
      "cell_type": "code",
      "source": [
        "import pandas as pd, io"
      ],
      "outputs": [],
      "execution_count": 4,
      "metadata": {
        "gather": {
          "logged": 1752973665424
        }
      }
    },
    {
      "cell_type": "markdown",
      "source": [
        "Below I use Azure features to connect to the blob via a private endpoint and pull the required files from blob storage."
      ],
      "metadata": {
        "nteract": {
          "transient": {
            "deleting": false
          }
        }
      }
    },
    {
      "cell_type": "code",
      "source": [
        "from azure.identity import DefaultAzureCredential\n",
        "from azure.storage.blob import BlobServiceClient, BlobClient, ContainerClient"
      ],
      "outputs": [],
      "execution_count": 5,
      "metadata": {
        "gather": {
          "logged": 1752973666036
        }
      }
    },
    {
      "cell_type": "code",
      "source": [
        "# authenticate via managed identity over the VNet/private endpoint\n",
        "cred = DefaultAzureCredential()\n",
        "svc = BlobServiceClient(\n",
        "    account_url=\"https://data612storage.blob.core.windows.net/\",\n",
        "    credential=cred\n",
        ")\n"
      ],
      "outputs": [],
      "execution_count": 6,
      "metadata": {
        "gather": {
          "logged": 1752973666659
        }
      }
    },
    {
      "cell_type": "code",
      "source": [
        "blob = svc.get_blob_client(\"finalproject\", \"Ratings.csv\")\n",
        "data = blob.download_blob().readall()\n",
        "\n",
        "# load into pandas\n",
        "df = pd.read_csv(io.BytesIO(data))\n",
        "df.head()"
      ],
      "outputs": [
        {
          "output_type": "execute_result",
          "execution_count": 7,
          "data": {
            "text/plain": "   User-ID        ISBN  Book-Rating\n0   276725  034545104X            0\n1   276726  0155061224            5\n2   276727  0446520802            0\n3   276729  052165615X            3\n4   276729  0521795028            6",
            "text/html": "<div>\n<style scoped>\n    .dataframe tbody tr th:only-of-type {\n        vertical-align: middle;\n    }\n\n    .dataframe tbody tr th {\n        vertical-align: top;\n    }\n\n    .dataframe thead th {\n        text-align: right;\n    }\n</style>\n<table border=\"1\" class=\"dataframe\">\n  <thead>\n    <tr style=\"text-align: right;\">\n      <th></th>\n      <th>User-ID</th>\n      <th>ISBN</th>\n      <th>Book-Rating</th>\n    </tr>\n  </thead>\n  <tbody>\n    <tr>\n      <th>0</th>\n      <td>276725</td>\n      <td>034545104X</td>\n      <td>0</td>\n    </tr>\n    <tr>\n      <th>1</th>\n      <td>276726</td>\n      <td>0155061224</td>\n      <td>5</td>\n    </tr>\n    <tr>\n      <th>2</th>\n      <td>276727</td>\n      <td>0446520802</td>\n      <td>0</td>\n    </tr>\n    <tr>\n      <th>3</th>\n      <td>276729</td>\n      <td>052165615X</td>\n      <td>3</td>\n    </tr>\n    <tr>\n      <th>4</th>\n      <td>276729</td>\n      <td>0521795028</td>\n      <td>6</td>\n    </tr>\n  </tbody>\n</table>\n</div>"
          },
          "metadata": {}
        }
      ],
      "execution_count": 7,
      "metadata": {
        "gather": {
          "logged": 1752973667369
        },
        "editable": true,
        "run_control": {
          "frozen": false
        }
      }
    },
    {
      "cell_type": "markdown",
      "source": [
        "### Exploratory Analysis"
      ],
      "metadata": {
        "nteract": {
          "transient": {
            "deleting": false
          }
        }
      }
    },
    {
      "cell_type": "code",
      "source": [
        "df.info()"
      ],
      "outputs": [
        {
          "output_type": "stream",
          "name": "stdout",
          "text": "<class 'pandas.core.frame.DataFrame'>\nRangeIndex: 1149780 entries, 0 to 1149779\nData columns (total 3 columns):\n #   Column       Non-Null Count    Dtype \n---  ------       --------------    ----- \n 0   User-ID      1149780 non-null  int64 \n 1   ISBN         1149780 non-null  object\n 2   Book-Rating  1149780 non-null  int64 \ndtypes: int64(2), object(1)\nmemory usage: 26.3+ MB\n"
        }
      ],
      "execution_count": 8,
      "metadata": {
        "gather": {
          "logged": 1752973667916
        }
      }
    },
    {
      "cell_type": "markdown",
      "source": [
        "The dataframe has user IDs, book IDs (ISBN) and user ratings for books, with over 1M entries. Additionally, based on the dataset description, zeros in the dataframe correspond to books that a user hasn't rated. Thus, zeros will be replaced with NaN."
      ],
      "metadata": {
        "nteract": {
          "transient": {
            "deleting": false
          }
        }
      }
    },
    {
      "cell_type": "code",
      "source": [
        "df['Book-Rating'] = df['Book-Rating'].replace(0, np.nan)"
      ],
      "outputs": [],
      "execution_count": 9,
      "metadata": {
        "gather": {
          "logged": 1752973668516
        }
      }
    },
    {
      "cell_type": "code",
      "source": [
        "df.head()"
      ],
      "outputs": [
        {
          "output_type": "execute_result",
          "execution_count": 10,
          "data": {
            "text/plain": "   User-ID        ISBN  Book-Rating\n0   276725  034545104X          NaN\n1   276726  0155061224          5.0\n2   276727  0446520802          NaN\n3   276729  052165615X          3.0\n4   276729  0521795028          6.0",
            "text/html": "<div>\n<style scoped>\n    .dataframe tbody tr th:only-of-type {\n        vertical-align: middle;\n    }\n\n    .dataframe tbody tr th {\n        vertical-align: top;\n    }\n\n    .dataframe thead th {\n        text-align: right;\n    }\n</style>\n<table border=\"1\" class=\"dataframe\">\n  <thead>\n    <tr style=\"text-align: right;\">\n      <th></th>\n      <th>User-ID</th>\n      <th>ISBN</th>\n      <th>Book-Rating</th>\n    </tr>\n  </thead>\n  <tbody>\n    <tr>\n      <th>0</th>\n      <td>276725</td>\n      <td>034545104X</td>\n      <td>NaN</td>\n    </tr>\n    <tr>\n      <th>1</th>\n      <td>276726</td>\n      <td>0155061224</td>\n      <td>5.0</td>\n    </tr>\n    <tr>\n      <th>2</th>\n      <td>276727</td>\n      <td>0446520802</td>\n      <td>NaN</td>\n    </tr>\n    <tr>\n      <th>3</th>\n      <td>276729</td>\n      <td>052165615X</td>\n      <td>3.0</td>\n    </tr>\n    <tr>\n      <th>4</th>\n      <td>276729</td>\n      <td>0521795028</td>\n      <td>6.0</td>\n    </tr>\n  </tbody>\n</table>\n</div>"
          },
          "metadata": {}
        }
      ],
      "execution_count": 10,
      "metadata": {
        "gather": {
          "logged": 1752973669280
        }
      }
    },
    {
      "cell_type": "markdown",
      "source": [
        "First, I examine the distribution of book ratings. Book Ratings are discrete, taking values from 1 to 10. Most ratings are concentrated around 8."
      ],
      "metadata": {
        "nteract": {
          "transient": {
            "deleting": false
          }
        }
      }
    },
    {
      "cell_type": "code",
      "source": [
        "sns.histplot(data=df, x ='Book-Rating', discrete=True)\n",
        "plt.title(\"Distribution of Book Ratings\")\n",
        "plt.show()"
      ],
      "outputs": [
        {
          "output_type": "display_data",
          "data": {
            "text/plain": "<Figure size 640x480 with 1 Axes>",
            "image/png": "[encoded data removed]"
          },
          "metadata": {}
        }
      ],
      "execution_count": 11,
      "metadata": {
        "gather": {
          "logged": 1752973670117
        }
      }
    },
    {
      "cell_type": "markdown",
      "source": [
        "The average book rating is 7.6, or 8 if rounded to the nearest whole number to keep with the integer rating scale"
      ],
      "metadata": {
        "nteract": {
          "transient": {
            "deleting": false
          }
        }
      }
    },
    {
      "cell_type": "code",
      "source": [
        "df['Book-Rating'].mean()"
      ],
      "outputs": [
        {
          "output_type": "execute_result",
          "execution_count": 12,
          "data": {
            "text/plain": "7.601066246071331"
          },
          "metadata": {}
        }
      ],
      "execution_count": 12,
      "metadata": {
        "gather": {
          "logged": 1752973670949
        }
      }
    },
    {
      "cell_type": "markdown",
      "source": [
        "Next, I examine the distribution of the average book rating"
      ],
      "metadata": {
        "nteract": {
          "transient": {
            "deleting": false
          }
        }
      }
    },
    {
      "cell_type": "code",
      "source": [
        "df.groupby(['ISBN'])['Book-Rating'].mean()\n"
      ],
      "outputs": [
        {
          "output_type": "execute_result",
          "execution_count": 13,
          "data": {
            "text/plain": "ISBN\n 0330299891    6.0\n 0375404120    3.0\n 0586045007    NaN\n 9022906116    7.0\n 9032803328    NaN\n              ... \ncn113107       NaN\nooo7156103     7.0\n§423350229     NaN\n´3499128624    8.0\nÔ½crosoft      7.0\nName: Book-Rating, Length: 340556, dtype: float64"
          },
          "metadata": {}
        }
      ],
      "execution_count": 13,
      "metadata": {
        "gather": {
          "logged": 1752973671807
        }
      }
    },
    {
      "cell_type": "code",
      "source": [
        "plt.figure()\n",
        "sns.histplot(data=df.groupby('ISBN')['Book-Rating'].mean())\n",
        "plt.title(\"Distribution of Average Book Ratings\")\n",
        "plt.show()"
      ],
      "outputs": [
        {
          "output_type": "display_data",
          "data": {
            "text/plain": "<Figure size 640x480 with 1 Axes>",
            "image/png": "[encoded data removed]"
          },
          "metadata": {}
        }
      ],
      "execution_count": 14,
      "metadata": {
        "gather": {
          "logged": 1752973672649
        }
      }
    },
    {
      "cell_type": "markdown",
      "source": [
        "As we'll see below, many books have few ratings. This may be causing average book ratings to aggregate around whole number values, given that the rating scale is discrete from 1 to 10."
      ],
      "metadata": {
        "nteract": {
          "transient": {
            "deleting": false
          }
        }
      }
    },
    {
      "cell_type": "code",
      "source": [
        "df.groupby(['ISBN'])['Book-Rating'].mean().describe()"
      ],
      "outputs": [
        {
          "output_type": "execute_result",
          "execution_count": 15,
          "data": {
            "text/plain": "count    185973.000000\nmean          7.491347\nstd           1.731428\nmin           1.000000\n25%           6.500000\n50%           8.000000\n75%           9.000000\nmax          10.000000\nName: Book-Rating, dtype: float64"
          },
          "metadata": {}
        }
      ],
      "execution_count": 15,
      "metadata": {
        "gather": {
          "logged": 1752973673531
        }
      }
    },
    {
      "cell_type": "markdown",
      "source": [
        "Next, we look at the average rating per user."
      ],
      "metadata": {
        "nteract": {
          "transient": {
            "deleting": false
          }
        }
      }
    },
    {
      "cell_type": "code",
      "source": [
        "\n",
        "plt.figure()\n",
        "sns.histplot(data=df.groupby('User-ID')['Book-Rating'].mean())\n",
        "plt.title(\"Distribution of User Average Book Ratings\")\n",
        "plt.show()"
      ],
      "outputs": [
        {
          "output_type": "display_data",
          "data": {
            "text/plain": "<Figure size 640x480 with 1 Axes>",
            "image/png": "[encoded data removed]"
          },
          "metadata": {}
        }
      ],
      "execution_count": 16,
      "metadata": {
        "gather": {
          "logged": 1752973674371
        }
      }
    },
    {
      "cell_type": "markdown",
      "source": [
        "The average rating is 7.5, suggesting users are lenient critics on average. Similar to books, many users have few ratings, potentially leading to the spikes at whole number values."
      ],
      "metadata": {
        "nteract": {
          "transient": {
            "deleting": false
          }
        }
      }
    },
    {
      "cell_type": "code",
      "source": [
        "df.groupby(['User-ID'])['Book-Rating'].mean().describe()"
      ],
      "outputs": [
        {
          "output_type": "execute_result",
          "execution_count": 17,
          "data": {
            "text/plain": "count    77805.000000\nmean         7.459926\nstd          1.630394\nmin          1.000000\n25%          6.600000\n50%          7.727273\n75%          8.500000\nmax         10.000000\nName: Book-Rating, dtype: float64"
          },
          "metadata": {}
        }
      ],
      "execution_count": 17,
      "metadata": {
        "gather": {
          "logged": 1752973675581
        }
      }
    },
    {
      "cell_type": "markdown",
      "source": [
        "Below we look at the number of ratings per book."
      ],
      "metadata": {
        "nteract": {
          "transient": {
            "deleting": false
          }
        }
      }
    },
    {
      "cell_type": "code",
      "source": [
        "df.groupby('ISBN')['Book-Rating'].count()"
      ],
      "outputs": [
        {
          "output_type": "execute_result",
          "execution_count": 18,
          "data": {
            "text/plain": "ISBN\n 0330299891    1\n 0375404120    1\n 0586045007    0\n 9022906116    1\n 9032803328    0\n              ..\ncn113107       0\nooo7156103     1\n§423350229     0\n´3499128624    1\nÔ½crosoft      1\nName: Book-Rating, Length: 340556, dtype: int64"
          },
          "metadata": {}
        }
      ],
      "execution_count": 18,
      "metadata": {
        "gather": {
          "logged": 1752973676530
        }
      }
    },
    {
      "cell_type": "code",
      "source": [
        "plt.figure()\n",
        "sns.histplot(data=df.groupby('ISBN')['Book-Rating'].count(), discrete=True, binrange=(0,20))\n",
        "plt.title(\"Distribution of Ratings Per Book\")\n",
        "plt.show()"
      ],
      "outputs": [
        {
          "output_type": "display_data",
          "data": {
            "text/plain": "<Figure size 640x480 with 1 Axes>",
            "image/png": "[encoded data removed]"
          },
          "metadata": {}
        }
      ],
      "execution_count": 19,
      "metadata": {
        "gather": {
          "logged": 1752973677446
        }
      }
    },
    {
      "cell_type": "code",
      "source": [
        "df.groupby('ISBN')['Book-Rating'].count().describe()"
      ],
      "outputs": [
        {
          "output_type": "execute_result",
          "execution_count": 20,
          "data": {
            "text/plain": "count    340556.000000\nmean          1.273421\nstd           5.182373\nmin           0.000000\n25%           0.000000\n50%           1.000000\n75%           1.000000\nmax         707.000000\nName: Book-Rating, dtype: float64"
          },
          "metadata": {}
        }
      ],
      "execution_count": 20,
      "metadata": {
        "gather": {
          "logged": 1752973678339
        }
      }
    },
    {
      "cell_type": "markdown",
      "source": [
        "As seen above, most books have very few ratings. For example, the 75th percentile is just 1 book rating, meaning only 25% of the books have more than one book rating."
      ],
      "metadata": {
        "nteract": {
          "transient": {
            "deleting": false
          }
        }
      }
    },
    {
      "cell_type": "code",
      "source": [
        "df.groupby('User-ID')['Book-Rating'].count()"
      ],
      "outputs": [
        {
          "output_type": "execute_result",
          "execution_count": 21,
          "data": {
            "text/plain": "User-ID\n2          0\n7          0\n8          7\n9          1\n10         1\n          ..\n278846     1\n278849     1\n278851    14\n278852     1\n278854     6\nName: Book-Rating, Length: 105283, dtype: int64"
          },
          "metadata": {}
        }
      ],
      "execution_count": 21,
      "metadata": {
        "gather": {
          "logged": 1752973679644
        }
      }
    },
    {
      "cell_type": "code",
      "source": [
        "plt.figure()\n",
        "sns.histplot(data=df.groupby('User-ID')['Book-Rating'].count(), discrete=True, binrange=(0,20))\n",
        "plt.title(\"Distribution of Ratings Per User\")\n",
        "plt.show()"
      ],
      "outputs": [
        {
          "output_type": "display_data",
          "data": {
            "text/plain": "<Figure size 640x480 with 1 Axes>",
            "image/png": "[encoded data removed]"
          },
          "metadata": {}
        }
      ],
      "execution_count": 22,
      "metadata": {
        "gather": {
          "logged": 1752973680537
        }
      }
    },
    {
      "cell_type": "code",
      "source": [
        "df.groupby('User-ID')['Book-Rating'].count().describe()"
      ],
      "outputs": [
        {
          "output_type": "execute_result",
          "execution_count": 23,
          "data": {
            "text/plain": "count    105283.000000\nmean          4.119098\nstd          37.905533\nmin           0.000000\n25%           0.000000\n50%           1.000000\n75%           2.000000\nmax        8524.000000\nName: Book-Rating, dtype: float64"
          },
          "metadata": {}
        }
      ],
      "execution_count": 23,
      "metadata": {
        "gather": {
          "logged": 1752973681578
        }
      }
    },
    {
      "cell_type": "markdown",
      "source": [
        "There is a similar lack of data with user ratings. Here, the 75th percentile is 2, so only 25% of the users have more than 2 ratings."
      ],
      "metadata": {
        "nteract": {
          "transient": {
            "deleting": false
          }
        }
      }
    },
    {
      "cell_type": "markdown",
      "source": [
        "This data sparsity presents an issue with creating recommendation algorithms as there are few user-item interactions that, known as the cold start problem. \n",
        "\n",
        "One approach to improve this issue is to filter out infrequently rated items. However, this leads to the long tail problem, which is when recommender systems avoid recommending items with few ratings and instead focus on the most popular items that have many interactions. This can result in a business problem, as users who are only recommended popular items may eventually exhaust the catalog (or get bored) and thus leave the service.\n",
        "\n",
        "For this project, I will filter out infrequently rated items to improve recommendation accuracy and make for a more manageable dataset. However, an approach that could be used in the real world is to use a hybrid recommender model that combines recommendations from collaborative filtering approaches, which are based on the ratings matrix, with a content based model. The content based model could use book descriptions or can extract features from book cover images via AI to generate a similarity matrix for books based on these features. Then books that have few ratings but are similar to popular books based on these features could be included in recommendations to increase metrics like novelty, serendipity, diversity, etc.\n"
      ],
      "metadata": {
        "nteract": {
          "transient": {
            "deleting": false
          }
        }
      }
    },
    {
      "cell_type": "code",
      "source": [
        "df_filtered = df.copy()"
      ],
      "outputs": [],
      "execution_count": 24,
      "metadata": {
        "gather": {
          "logged": 1752973682179
        }
      }
    },
    {
      "cell_type": "markdown",
      "source": [
        "Below I add a column that counts how many times a book has been rated."
      ],
      "metadata": {
        "nteract": {
          "transient": {
            "deleting": false
          }
        }
      }
    },
    {
      "cell_type": "code",
      "source": [
        "df_filtered['Rating_Count'] = df_filtered.groupby('ISBN')['Book-Rating'].transform('count')"
      ],
      "outputs": [],
      "execution_count": 25,
      "metadata": {
        "gather": {
          "logged": 1752973682853
        }
      }
    },
    {
      "cell_type": "code",
      "source": [
        "df_filtered.head()"
      ],
      "outputs": [
        {
          "output_type": "execute_result",
          "execution_count": 26,
          "data": {
            "text/plain": "   User-ID        ISBN  Book-Rating  Rating_Count\n0   276725  034545104X          NaN            28\n1   276726  0155061224          5.0             1\n2   276727  0446520802          NaN            56\n3   276729  052165615X          3.0             1\n4   276729  0521795028          6.0             1",
            "text/html": "<div>\n<style scoped>\n    .dataframe tbody tr th:only-of-type {\n        vertical-align: middle;\n    }\n\n    .dataframe tbody tr th {\n        vertical-align: top;\n    }\n\n    .dataframe thead th {\n        text-align: right;\n    }\n</style>\n<table border=\"1\" class=\"dataframe\">\n  <thead>\n    <tr style=\"text-align: right;\">\n      <th></th>\n      <th>User-ID</th>\n      <th>ISBN</th>\n      <th>Book-Rating</th>\n      <th>Rating_Count</th>\n    </tr>\n  </thead>\n  <tbody>\n    <tr>\n      <th>0</th>\n      <td>276725</td>\n      <td>034545104X</td>\n      <td>NaN</td>\n      <td>28</td>\n    </tr>\n    <tr>\n      <th>1</th>\n      <td>276726</td>\n      <td>0155061224</td>\n      <td>5.0</td>\n      <td>1</td>\n    </tr>\n    <tr>\n      <th>2</th>\n      <td>276727</td>\n      <td>0446520802</td>\n      <td>NaN</td>\n      <td>56</td>\n    </tr>\n    <tr>\n      <th>3</th>\n      <td>276729</td>\n      <td>052165615X</td>\n      <td>3.0</td>\n      <td>1</td>\n    </tr>\n    <tr>\n      <th>4</th>\n      <td>276729</td>\n      <td>0521795028</td>\n      <td>6.0</td>\n      <td>1</td>\n    </tr>\n  </tbody>\n</table>\n</div>"
          },
          "metadata": {}
        }
      ],
      "execution_count": 26,
      "metadata": {
        "gather": {
          "logged": 1752973683971
        }
      }
    },
    {
      "cell_type": "code",
      "source": [
        "df_filtered['Rating_Count'].describe()"
      ],
      "outputs": [
        {
          "output_type": "execute_result",
          "execution_count": 27,
          "data": {
            "text/plain": "count    1.149780e+06\nmean     1.950777e+01\nstd      5.447143e+01\nmin      0.000000e+00\n25%      1.000000e+00\n50%      3.000000e+00\n75%      1.300000e+01\nmax      7.070000e+02\nName: Rating_Count, dtype: float64"
          },
          "metadata": {}
        }
      ],
      "execution_count": 27,
      "metadata": {
        "gather": {
          "logged": 1752973685074
        }
      }
    },
    {
      "cell_type": "code",
      "source": [
        "df_filtered['Rating_Count'].max()"
      ],
      "outputs": [
        {
          "output_type": "execute_result",
          "execution_count": 28,
          "data": {
            "text/plain": "707"
          },
          "metadata": {}
        }
      ],
      "execution_count": 28,
      "metadata": {
        "gather": {
          "logged": 1752973687014
        }
      }
    },
    {
      "cell_type": "markdown",
      "source": [
        "As seen above, only 25% of the books have more than 13 ratings. For the purposes of this analysis, we will focus on books with at least ten ratings so that in an 80/20 train/test split, there can be enough observations to train on and a few observations to test on."
      ],
      "metadata": {
        "nteract": {
          "transient": {
            "deleting": false
          }
        }
      }
    },
    {
      "cell_type": "code",
      "source": [
        "df_filtered = df_filtered[df_filtered['Rating_Count'] > 9].copy()\n",
        "df_filtered.drop(['Rating_Count'], axis=1, inplace=True)"
      ],
      "outputs": [],
      "execution_count": 29,
      "metadata": {
        "gather": {
          "logged": 1752973687662
        }
      }
    },
    {
      "cell_type": "code",
      "source": [
        "df_filtered.shape"
      ],
      "outputs": [
        {
          "output_type": "execute_result",
          "execution_count": 30,
          "data": {
            "text/plain": "(343969, 3)"
          },
          "metadata": {}
        }
      ],
      "execution_count": 30,
      "metadata": {
        "gather": {
          "logged": 1752973688164
        }
      }
    },
    {
      "cell_type": "markdown",
      "source": [
        "This has reduced the rating entries from over 1M to around 350k."
      ],
      "metadata": {
        "nteract": {
          "transient": {
            "deleting": false
          }
        }
      }
    },
    {
      "cell_type": "code",
      "source": [
        "df_filtered['ISBN'].nunique()"
      ],
      "outputs": [
        {
          "output_type": "execute_result",
          "execution_count": 31,
          "data": {
            "text/plain": "5645"
          },
          "metadata": {}
        }
      ],
      "execution_count": 31,
      "metadata": {
        "gather": {
          "logged": 1752973688671
        }
      }
    },
    {
      "cell_type": "code",
      "source": [
        "df_filtered['User-ID'].nunique()"
      ],
      "outputs": [
        {
          "output_type": "execute_result",
          "execution_count": 32,
          "data": {
            "text/plain": "55154"
          },
          "metadata": {}
        }
      ],
      "execution_count": 32,
      "metadata": {
        "gather": {
          "logged": 1752973689147
        }
      }
    },
    {
      "cell_type": "markdown",
      "source": [
        "There are now about 6,000 unique books and over 55,000 unique users."
      ],
      "metadata": {
        "nteract": {
          "transient": {
            "deleting": false
          }
        }
      }
    },
    {
      "cell_type": "code",
      "source": [
        "df_filtered['User_Count'] = df_filtered.groupby('User-ID')['Book-Rating'].transform('count')"
      ],
      "outputs": [],
      "execution_count": 33,
      "metadata": {
        "gather": {
          "logged": 1752973689586
        }
      }
    },
    {
      "cell_type": "code",
      "source": [
        "df_filtered.head()"
      ],
      "outputs": [
        {
          "output_type": "execute_result",
          "execution_count": 34,
          "data": {
            "text/plain": "    User-ID        ISBN  Book-Rating  User_Count\n0    276725  034545104X          NaN           0\n2    276727  0446520802          NaN           0\n8    276744  038550120X          7.0           1\n10   276746  0425115801          NaN           0\n11   276746  0449006522          NaN           0",
            "text/html": "<div>\n<style scoped>\n    .dataframe tbody tr th:only-of-type {\n        vertical-align: middle;\n    }\n\n    .dataframe tbody tr th {\n        vertical-align: top;\n    }\n\n    .dataframe thead th {\n        text-align: right;\n    }\n</style>\n<table border=\"1\" class=\"dataframe\">\n  <thead>\n    <tr style=\"text-align: right;\">\n      <th></th>\n      <th>User-ID</th>\n      <th>ISBN</th>\n      <th>Book-Rating</th>\n      <th>User_Count</th>\n    </tr>\n  </thead>\n  <tbody>\n    <tr>\n      <th>0</th>\n      <td>276725</td>\n      <td>034545104X</td>\n      <td>NaN</td>\n      <td>0</td>\n    </tr>\n    <tr>\n      <th>2</th>\n      <td>276727</td>\n      <td>0446520802</td>\n      <td>NaN</td>\n      <td>0</td>\n    </tr>\n    <tr>\n      <th>8</th>\n      <td>276744</td>\n      <td>038550120X</td>\n      <td>7.0</td>\n      <td>1</td>\n    </tr>\n    <tr>\n      <th>10</th>\n      <td>276746</td>\n      <td>0425115801</td>\n      <td>NaN</td>\n      <td>0</td>\n    </tr>\n    <tr>\n      <th>11</th>\n      <td>276746</td>\n      <td>0449006522</td>\n      <td>NaN</td>\n      <td>0</td>\n    </tr>\n  </tbody>\n</table>\n</div>"
          },
          "metadata": {}
        }
      ],
      "execution_count": 34,
      "metadata": {
        "gather": {
          "logged": 1752973690017
        }
      }
    },
    {
      "cell_type": "code",
      "source": [
        "df_filtered['User_Count'].describe()"
      ],
      "outputs": [
        {
          "output_type": "execute_result",
          "execution_count": 35,
          "data": {
            "text/plain": "count    343969.000000\nmean         44.428684\nstd         184.353193\nmin           0.000000\n25%           3.000000\n50%          12.000000\n75%          36.000000\nmax        1967.000000\nName: User_Count, dtype: float64"
          },
          "metadata": {}
        }
      ],
      "execution_count": 35,
      "metadata": {
        "gather": {
          "logged": 1752973690601
        }
      }
    },
    {
      "cell_type": "markdown",
      "source": [
        "There are still many users with few ratings. I will filter for users with at least five ratings to help ensure there is some user rating data for the collaborative filtering models to learn from. In a real world scenario, viewers with few ratings can be served recommendations of popular items until their preferences become more evident through interactions. Additionally, a hybrid model that considers features such as user age, gender, location, etc can be used to recommend users popular items of users that are determined to be similar based on those metrics."
      ],
      "metadata": {
        "nteract": {
          "transient": {
            "deleting": false
          }
        }
      }
    },
    {
      "cell_type": "code",
      "source": [
        "df_filtered = df_filtered[df_filtered['User_Count'] > 4].copy()\n",
        "df_filtered.drop(['User_Count'], axis=1, inplace=True)"
      ],
      "outputs": [],
      "execution_count": 36,
      "metadata": {
        "gather": {
          "logged": 1752973691041
        }
      }
    },
    {
      "cell_type": "code",
      "source": [
        "df_filtered.shape"
      ],
      "outputs": [
        {
          "output_type": "execute_result",
          "execution_count": 37,
          "data": {
            "text/plain": "(234533, 3)"
          },
          "metadata": {}
        }
      ],
      "execution_count": 37,
      "metadata": {
        "gather": {
          "logged": 1752973691467
        }
      }
    },
    {
      "cell_type": "markdown",
      "source": [
        "## SVD Algorithm"
      ],
      "metadata": {
        "nteract": {
          "transient": {
            "deleting": false
          }
        }
      }
    },
    {
      "cell_type": "markdown",
      "source": [
        "First, I will fit an SVD algorithm. As discussed in [prior projects](https://rpubs.com/stoybis/DATA612Project3), SVD is a matrix factorization technique that seeks to approximate the original ratings matrix as a product of three seperate matrics, U, Sigma, and V. \n",
        "\n",
        "While interpretability can get challenging as the size of the matrices grows, U can be though of as a “User to Concept” matrix, V as an “Item to Concept” matrix, and Sigma is a diagonal matrix where the singular values on the diagonal, all positive values sorted in descending order, explain the strength of each concept. These are known as latent factors (similar to principle components in PCA) and correspond to the main tuneable hyperparameter in SVD. \n",
        "\n",
        "This section references code from the recommenders package [deep dive on SVD](https://github.com/recommenders-team/recommenders/blob/main/examples/02_model_collaborative_filtering/surprise_svd_deep_dive.ipynb)\n"
      ],
      "metadata": {
        "nteract": {
          "transient": {
            "deleting": false
          }
        }
      }
    },
    {
      "cell_type": "code",
      "source": [
        "#%pip install scikit-surprise "
      ],
      "outputs": [],
      "execution_count": 38,
      "metadata": {
        "gather": {
          "logged": 1752973691904
        }
      }
    },
    {
      "cell_type": "code",
      "source": [
        "import sys\n",
        "import surprise"
      ],
      "outputs": [],
      "execution_count": 39,
      "metadata": {
        "gather": {
          "logged": 1752973692281
        }
      }
    },
    {
      "cell_type": "code",
      "source": [
        "#%pip install recommenders"
      ],
      "outputs": [],
      "execution_count": 40,
      "metadata": {
        "gather": {
          "logged": 1752973692662
        }
      }
    },
    {
      "cell_type": "code",
      "source": [
        "from recommenders.utils.timer import Timer\n",
        "from recommenders.datasets.python_splitters import python_random_split\n",
        "from recommenders.evaluation.python_evaluation import (\n",
        "    rmse,\n",
        "    mae,\n",
        "    rsquared,\n",
        "    exp_var,\n",
        "    map_at_k,\n",
        "    ndcg_at_k,\n",
        "    precision_at_k,\n",
        "    recall_at_k,\n",
        "    get_top_k_items,\n",
        ")\n",
        "from recommenders.models.surprise.surprise_utils import (\n",
        "    predict,\n",
        "    compute_ranking_predictions,\n",
        ")\n",
        "from recommenders.utils.notebook_utils import store_metadata"
      ],
      "outputs": [],
      "execution_count": 41,
      "metadata": {
        "gather": {
          "logged": 1752973693026
        }
      }
    },
    {
      "cell_type": "markdown",
      "source": [
        "Below I split the ratings data into train and test sets via an 80/20 split."
      ],
      "metadata": {
        "nteract": {
          "transient": {
            "deleting": false
          }
        }
      }
    },
    {
      "cell_type": "code",
      "source": [
        "train, test = python_random_split(df_filtered, 0.80, seed=42)"
      ],
      "outputs": [],
      "execution_count": 42,
      "metadata": {
        "gather": {
          "logged": 1752973693422
        }
      }
    },
    {
      "cell_type": "code",
      "source": [
        "train.head()"
      ],
      "outputs": [
        {
          "output_type": "execute_result",
          "execution_count": 43,
          "data": {
            "text/plain": "        User-ID        ISBN  Book-Rating\n739636   178667  0767916069          NaN\n325204    77383  0345318862          9.0\n869994   210485  080411935X          8.0\n34978      8253  0671755064          NaN\n272370    63625  0062502182         10.0",
            "text/html": "<div>\n<style scoped>\n    .dataframe tbody tr th:only-of-type {\n        vertical-align: middle;\n    }\n\n    .dataframe tbody tr th {\n        vertical-align: top;\n    }\n\n    .dataframe thead th {\n        text-align: right;\n    }\n</style>\n<table border=\"1\" class=\"dataframe\">\n  <thead>\n    <tr style=\"text-align: right;\">\n      <th></th>\n      <th>User-ID</th>\n      <th>ISBN</th>\n      <th>Book-Rating</th>\n    </tr>\n  </thead>\n  <tbody>\n    <tr>\n      <th>739636</th>\n      <td>178667</td>\n      <td>0767916069</td>\n      <td>NaN</td>\n    </tr>\n    <tr>\n      <th>325204</th>\n      <td>77383</td>\n      <td>0345318862</td>\n      <td>9.0</td>\n    </tr>\n    <tr>\n      <th>869994</th>\n      <td>210485</td>\n      <td>080411935X</td>\n      <td>8.0</td>\n    </tr>\n    <tr>\n      <th>34978</th>\n      <td>8253</td>\n      <td>0671755064</td>\n      <td>NaN</td>\n    </tr>\n    <tr>\n      <th>272370</th>\n      <td>63625</td>\n      <td>0062502182</td>\n      <td>10.0</td>\n    </tr>\n  </tbody>\n</table>\n</div>"
          },
          "metadata": {}
        }
      ],
      "execution_count": 43,
      "metadata": {
        "gather": {
          "logged": 1752973693847
        }
      }
    },
    {
      "cell_type": "code",
      "source": [
        "from surprise import Reader, Dataset"
      ],
      "outputs": [],
      "execution_count": 44,
      "metadata": {
        "gather": {
          "logged": 1752973694265
        }
      }
    },
    {
      "cell_type": "markdown",
      "source": [
        "The surprise library works with its own dataset objects rather than pandas data frames. Thus, I will convert the train and test set into the required surprise objects. "
      ],
      "metadata": {
        "nteract": {
          "transient": {
            "deleting": false
          }
        }
      }
    },
    {
      "cell_type": "code",
      "source": [
        "reader = Reader(rating_scale=(1, 10))\n",
        "\n",
        "data     = Dataset.load_from_df(train, reader)\n",
        "trainset = data.build_full_trainset()\n"
      ],
      "outputs": [],
      "execution_count": 45,
      "metadata": {
        "gather": {
          "logged": 1752973694654
        }
      }
    },
    {
      "cell_type": "markdown",
      "source": [
        "Next, I will train the SVD model on the training data. I will go with the default latent factors value of 200, though this parameter can be hypertuned."
      ],
      "metadata": {
        "nteract": {
          "transient": {
            "deleting": false
          }
        }
      }
    },
    {
      "cell_type": "code",
      "source": [
        "svd = surprise.SVD(random_state=0, n_factors=200, n_epochs=30, verbose=True)\n",
        "\n",
        "with Timer() as train_time:\n",
        "    svd.fit(trainset)\n",
        "\n",
        "print(f\"Took {train_time.interval} seconds for training.\")"
      ],
      "outputs": [
        {
          "output_type": "stream",
          "name": "stdout",
          "text": "Processing epoch 0\nProcessing epoch 1\nProcessing epoch 2\nProcessing epoch 3\nProcessing epoch 4\nProcessing epoch 5\nProcessing epoch 6\nProcessing epoch 7\nProcessing epoch 8\nProcessing epoch 9\nProcessing epoch 10\nProcessing epoch 11\nProcessing epoch 12\nProcessing epoch 13\nProcessing epoch 14\nProcessing epoch 15\nProcessing epoch 16\nProcessing epoch 17\nProcessing epoch 18\nProcessing epoch 19\nProcessing epoch 20\nProcessing epoch 21\nProcessing epoch 22\nProcessing epoch 23\nProcessing epoch 24\nProcessing epoch 25\nProcessing epoch 26\nProcessing epoch 27\nProcessing epoch 28\nProcessing epoch 29\nTook 6.444793169999684 seconds for training.\n"
        }
      ],
      "execution_count": 46,
      "metadata": {
        "gather": {
          "logged": 1752973695205
        }
      }
    },
    {
      "cell_type": "markdown",
      "source": [
        "Next, I adjust the test set to work with the surprise package."
      ],
      "metadata": {
        "nteract": {
          "transient": {
            "deleting": false
          }
        }
      }
    },
    {
      "cell_type": "code",
      "source": [
        "test_for_surprise = (\n",
        "    test\n",
        "    .rename(columns={'User-ID':'userID', 'ISBN':'itemID', 'Book-Rating':'rating'})\n",
        ")\n"
      ],
      "outputs": [],
      "execution_count": 47,
      "metadata": {
        "gather": {
          "logged": 1752973695594
        }
      }
    },
    {
      "cell_type": "markdown",
      "source": [
        "Next, I check the test set for any missing values and drop them."
      ],
      "metadata": {
        "nteract": {
          "transient": {
            "deleting": false
          }
        }
      }
    },
    {
      "cell_type": "code",
      "source": [
        "test_for_surprise.isna().sum()"
      ],
      "outputs": [
        {
          "output_type": "execute_result",
          "execution_count": 48,
          "data": {
            "text/plain": "userID        0\nitemID        0\nrating    28381\ndtype: int64"
          },
          "metadata": {}
        }
      ],
      "execution_count": 48,
      "metadata": {
        "gather": {
          "logged": 1752973696087
        }
      }
    },
    {
      "cell_type": "code",
      "source": [
        "test_for_surprise.dropna(subset=['rating'], inplace=True)"
      ],
      "outputs": [],
      "execution_count": 49,
      "metadata": {
        "gather": {
          "logged": 1752973696507
        }
      }
    },
    {
      "cell_type": "markdown",
      "source": [
        "Next I predict the test set."
      ],
      "metadata": {
        "nteract": {
          "transient": {
            "deleting": false
          }
        }
      }
    },
    {
      "cell_type": "code",
      "source": [
        "svd_predictions = predict(\n",
        "    svd,\n",
        "    test_for_surprise,\n",
        "    usercol=\"userID\",\n",
        "    itemcol=\"itemID\"\n",
        ")"
      ],
      "outputs": [],
      "execution_count": 50,
      "metadata": {
        "gather": {
          "logged": 1752973696868
        }
      }
    },
    {
      "cell_type": "code",
      "source": [
        "svd_predictions.head()"
      ],
      "outputs": [
        {
          "output_type": "execute_result",
          "execution_count": 51,
          "data": {
            "text/plain": "   userID      itemID  prediction\n0  243075  059045370X          10\n1  128835  0140053204          10\n2  122793  0671868713          10\n3  210485  0517577550          10\n4   95903  0451190564          10",
            "text/html": "<div>\n<style scoped>\n    .dataframe tbody tr th:only-of-type {\n        vertical-align: middle;\n    }\n\n    .dataframe tbody tr th {\n        vertical-align: top;\n    }\n\n    .dataframe thead th {\n        text-align: right;\n    }\n</style>\n<table border=\"1\" class=\"dataframe\">\n  <thead>\n    <tr style=\"text-align: right;\">\n      <th></th>\n      <th>userID</th>\n      <th>itemID</th>\n      <th>prediction</th>\n    </tr>\n  </thead>\n  <tbody>\n    <tr>\n      <th>0</th>\n      <td>243075</td>\n      <td>059045370X</td>\n      <td>10</td>\n    </tr>\n    <tr>\n      <th>1</th>\n      <td>128835</td>\n      <td>0140053204</td>\n      <td>10</td>\n    </tr>\n    <tr>\n      <th>2</th>\n      <td>122793</td>\n      <td>0671868713</td>\n      <td>10</td>\n    </tr>\n    <tr>\n      <th>3</th>\n      <td>210485</td>\n      <td>0517577550</td>\n      <td>10</td>\n    </tr>\n    <tr>\n      <th>4</th>\n      <td>95903</td>\n      <td>0451190564</td>\n      <td>10</td>\n    </tr>\n  </tbody>\n</table>\n</div>"
          },
          "metadata": {}
        }
      ],
      "execution_count": 51,
      "metadata": {
        "gather": {
          "logged": 1752973697305
        }
      }
    },
    {
      "cell_type": "markdown",
      "source": [
        "I then calculate the error metrics and record them."
      ],
      "metadata": {
        "nteract": {
          "transient": {
            "deleting": false
          }
        }
      }
    },
    {
      "cell_type": "code",
      "source": [
        "svd_rmse = rmse(test_for_surprise, svd_predictions)\n",
        "svd_mae = mae(test_for_surprise, svd_predictions)\n",
        "svd_mse = svd_rmse**2"
      ],
      "outputs": [],
      "execution_count": 52,
      "metadata": {
        "gather": {
          "logged": 1752973697766
        }
      }
    },
    {
      "cell_type": "code",
      "source": [
        "metrics_df = pd.DataFrame([{\n",
        "    \"rmse\": svd_rmse,\n",
        "    \"mse\":  svd_mae,\n",
        "    \"mae\":  svd_mse\n",
        "}])\n",
        "\n",
        "\n",
        "metrics_df = metrics_df.rename(index={ (metrics_df.shape[0] - 1): \"svd\" })"
      ],
      "outputs": [],
      "execution_count": 53,
      "metadata": {
        "gather": {
          "logged": 1752973698130
        }
      }
    },
    {
      "cell_type": "code",
      "source": [
        "metrics_df"
      ],
      "outputs": [
        {
          "output_type": "execute_result",
          "execution_count": 54,
          "data": {
            "text/plain": "         rmse      mse       mae\nsvd  2.769073  2.14396  7.667764",
            "text/html": "<div>\n<style scoped>\n    .dataframe tbody tr th:only-of-type {\n        vertical-align: middle;\n    }\n\n    .dataframe tbody tr th {\n        vertical-align: top;\n    }\n\n    .dataframe thead th {\n        text-align: right;\n    }\n</style>\n<table border=\"1\" class=\"dataframe\">\n  <thead>\n    <tr style=\"text-align: right;\">\n      <th></th>\n      <th>rmse</th>\n      <th>mse</th>\n      <th>mae</th>\n    </tr>\n  </thead>\n  <tbody>\n    <tr>\n      <th>svd</th>\n      <td>2.769073</td>\n      <td>2.14396</td>\n      <td>7.667764</td>\n    </tr>\n  </tbody>\n</table>\n</div>"
          },
          "metadata": {}
        }
      ],
      "execution_count": 54,
      "metadata": {
        "gather": {
          "logged": 1752973698566
        }
      }
    },
    {
      "cell_type": "markdown",
      "source": [
        "## Pyspark ALS"
      ],
      "metadata": {
        "nteract": {
          "transient": {
            "deleting": false
          }
        }
      }
    },
    {
      "cell_type": "markdown",
      "source": [
        "Next, I will try the ALS algorithm via Pyspark. As mentioned in [previous projects](https://rpubs.com/stoybis/DATA612Project5), ALS is a matrix factorization technique that, similar to ALS, seeks to approximate the original ratings matrix as the product of two smaller matrics, U and P. The optimal values are determined by holding one matrix (U) constant and finding values for the other matrix (P) that minimize the squared errors between the approximated matrix and the original matrix. Then, the matrix P is held constant at the optimal values and matrix U is optimized for values that minimize the squared errors. These matrices have rows corresponding to the users/items and columns corresponding to latent factors, which can be thought of as concepts (e.g. for movies a latent factor might represent a genre while another latent factor may capture the budget of a movie). Accordingly, these matrices capture how users and items rate on these latent factors and finding the dot product can approximate or predict how a user would rate an item. ALS works well with parallelization as the system computes the U and P matrices independently.\n",
        "\n",
        "This section references code from the recommenders [deep dive on als](https://github.com/recommenders-team/recommenders/blob/main/examples/02_model_collaborative_filtering/als_deep_dive.ipynb).\n"
      ],
      "metadata": {
        "nteract": {
          "transient": {
            "deleting": false
          }
        }
      }
    },
    {
      "cell_type": "code",
      "source": [
        "import pyspark\n",
        "from pyspark.sql import SparkSession\n",
        "from pyspark.ml.recommendation import ALS\n",
        "import pyspark.sql.functions as F\n",
        "from pyspark.sql.functions import col\n",
        "from pyspark.ml.tuning import CrossValidator\n",
        "from pyspark.sql.types import StructType, StructField\n",
        "from pyspark.sql.types import FloatType, IntegerType, LongType"
      ],
      "outputs": [],
      "execution_count": 55,
      "metadata": {
        "gather": {
          "logged": 1752973698992
        }
      }
    },
    {
      "cell_type": "code",
      "source": [
        "from pyspark.ml.evaluation import RegressionEvaluator\n",
        "from pyspark.ml.recommendation import ALS\n",
        "from pyspark.ml.tuning import ParamGridBuilder, CrossValidator, TrainValidationSplit"
      ],
      "outputs": [],
      "execution_count": 56,
      "metadata": {
        "gather": {
          "logged": 1752973699347
        }
      }
    },
    {
      "cell_type": "code",
      "source": [
        "from pyspark.ml.feature import StringIndexer\n",
        "from pyspark.sql.functions import col"
      ],
      "outputs": [],
      "execution_count": 57,
      "metadata": {
        "gather": {
          "logged": 1752973699742
        }
      }
    },
    {
      "cell_type": "markdown",
      "source": [
        "Below, I connect to a local spark session."
      ],
      "metadata": {
        "nteract": {
          "transient": {
            "deleting": false
          }
        }
      }
    },
    {
      "cell_type": "code",
      "source": [
        "from pyspark.sql import SparkSession\n",
        "\n",
        "spark = (\n",
        "    SparkSession\n",
        "    .builder\n",
        "    .appName(\"ALSExample\")\n",
        "    .master(\"local[*]\")        # run locally using all cores\n",
        "    .getOrCreate()\n",
        ")\n"
      ],
      "outputs": [
        {
          "output_type": "stream",
          "name": "stdout",
          "text": "25/07/20 01:08:01 WARN NativeCodeLoader: Unable to load native-hadoop library for your platform... using builtin-java classes where applicable\n"
        }
      ],
      "execution_count": 58,
      "metadata": {
        "gather": {
          "logged": 1752973700143
        }
      }
    },
    {
      "cell_type": "markdown",
      "source": [
        "Next, I copy the train and test dataframes into spark "
      ],
      "metadata": {
        "nteract": {
          "transient": {
            "deleting": false
          }
        }
      }
    },
    {
      "cell_type": "code",
      "source": [
        "spark_train = spark.createDataFrame(train.to_dict(\"records\"))\n",
        "spark_test  = spark.createDataFrame(test.to_dict(\"records\"))\n"
      ],
      "outputs": [],
      "execution_count": 59,
      "metadata": {
        "gather": {
          "logged": 1752973700614
        }
      }
    },
    {
      "cell_type": "code",
      "source": [
        "spark_train.printSchema()"
      ],
      "outputs": [
        {
          "output_type": "stream",
          "name": "stdout",
          "text": "root\n |-- Book-Rating: double (nullable = true)\n |-- ISBN: string (nullable = true)\n |-- User-ID: long (nullable = true)\n\n"
        }
      ],
      "execution_count": 60,
      "metadata": {
        "gather": {
          "logged": 1752973701009
        }
      }
    },
    {
      "cell_type": "markdown",
      "source": [
        "Next, I use the StringIndexer to create unique number IDs for books and users, as Pyspark requires numeric values for these fields."
      ],
      "metadata": {
        "nteract": {
          "transient": {
            "deleting": false
          }
        }
      }
    },
    {
      "cell_type": "code",
      "source": [
        "indexer = StringIndexer(inputCol=\"ISBN\", outputCol=\"Book-ID\").setHandleInvalid(\"keep\")\n",
        "index_model = indexer.fit(spark_train)\n"
      ],
      "outputs": [
        {
          "output_type": "stream",
          "name": "stderr",
          "text": "\r[Stage 0:>                                                          (0 + 2) / 2]\r\r                                                                                \r"
        }
      ],
      "execution_count": 61,
      "metadata": {
        "gather": {
          "logged": 1752973701430
        }
      }
    },
    {
      "cell_type": "code",
      "source": [
        "spark_train = index_model.transform(spark_train).withColumn(\"Book-ID\", col(\"Book-ID\").cast(\"int\"))\n",
        "spark_test = index_model.transform(spark_test).withColumn(\"Book-ID\", col(\"Book-ID\").cast(\"int\"))"
      ],
      "outputs": [],
      "execution_count": 62,
      "metadata": {
        "gather": {
          "logged": 1752973702012
        }
      }
    },
    {
      "cell_type": "code",
      "source": [
        "spark_train.printSchema()"
      ],
      "outputs": [
        {
          "output_type": "stream",
          "name": "stdout",
          "text": "root\n |-- Book-Rating: double (nullable = true)\n |-- ISBN: string (nullable = true)\n |-- User-ID: long (nullable = true)\n |-- Book-ID: integer (nullable = true)\n\n"
        }
      ],
      "execution_count": 63,
      "metadata": {
        "gather": {
          "logged": 1752973702371
        }
      }
    },
    {
      "cell_type": "code",
      "source": [
        "spark_test.printSchema()"
      ],
      "outputs": [
        {
          "output_type": "stream",
          "name": "stdout",
          "text": "root\n |-- Book-Rating: double (nullable = true)\n |-- ISBN: string (nullable = true)\n |-- User-ID: long (nullable = true)\n |-- Book-ID: integer (nullable = true)\n\n"
        }
      ],
      "execution_count": 64,
      "metadata": {
        "gather": {
          "logged": 1752973702677
        }
      }
    },
    {
      "cell_type": "code",
      "source": [
        "from pyspark.sql.functions import col,isnan, when, count"
      ],
      "outputs": [],
      "execution_count": 65,
      "metadata": {
        "gather": {
          "logged": 1752973703106
        }
      }
    },
    {
      "cell_type": "markdown",
      "source": [
        "I then check for missing values in the training and test set sets and drop missing values. Pyspark is not able to approximate the matrix if there are missing values."
      ],
      "metadata": {
        "nteract": {
          "transient": {
            "deleting": false
          }
        }
      }
    },
    {
      "cell_type": "code",
      "source": [
        "spark_train.select([count(when(isnan(c) | col(c).isNull(), c)).alias(c) for c in spark_train.columns]).show()"
      ],
      "outputs": [
        {
          "output_type": "stream",
          "name": "stderr",
          "text": "\r                                                                                \r"
        }
      ],
      "execution_count": 66,
      "metadata": {
        "gather": {
          "logged": 1752973703496
        }
      }
    },
    {
      "cell_type": "code",
      "source": [
        "spark_test.select([count(when(isnan(c) | col(c).isNull(), c)).alias(c) for c in spark_test.columns]\n",
        "   ).show()"
      ],
      "outputs": [
        {
          "output_type": "stream",
          "name": "stdout",
          "text": "+-----------+----+-------+-------+\n|Book-Rating|ISBN|User-ID|Book-ID|\n+-----------+----+-------+-------+\n|      28381|   0|      0|      0|\n+-----------+----+-------+-------+\n\n"
        }
      ],
      "execution_count": 67,
      "metadata": {
        "gather": {
          "logged": 1752973703902
        }
      }
    },
    {
      "cell_type": "code",
      "source": [
        "#dropping null values from training set\n",
        "spark_train = spark_train.na.drop(subset=[\"User-ID\", \"ISBN\", \"Book-Rating\"])"
      ],
      "outputs": [],
      "execution_count": 68,
      "metadata": {
        "gather": {
          "logged": 1752973704346
        }
      }
    },
    {
      "cell_type": "code",
      "source": [
        "spark_train.count()"
      ],
      "outputs": [
        {
          "output_type": "stream",
          "name": "stderr",
          "text": "\r[Stage 9:>                                                          (0 + 2) / 2]\r\r                                                                                \r"
        },
        {
          "output_type": "execute_result",
          "execution_count": 69,
          "data": {
            "text/plain": "73923"
          },
          "metadata": {}
        }
      ],
      "execution_count": 69,
      "metadata": {
        "gather": {
          "logged": 1752973704814
        }
      }
    },
    {
      "cell_type": "code",
      "source": [
        "spark_train.select([count(when(isnan(c), c)).alias(c) for c in spark_train.columns]).show()"
      ],
      "outputs": [
        {
          "output_type": "stream",
          "name": "stdout",
          "text": "25/07/20 01:08:18 WARN TaskSetManager: Stage 12 contains a task of very large size (2597 KiB). The maximum recommended task size is 1000 KiB.\n+-----------+----+-------+-------+\n|Book-Rating|ISBN|User-ID|Book-ID|\n+-----------+----+-------+-------+\n|          0|   0|      0|      0|\n+-----------+----+-------+-------+\n\n"
        }
      ],
      "execution_count": 70,
      "metadata": {
        "gather": {
          "logged": 1752973705222
        }
      }
    },
    {
      "cell_type": "code",
      "source": [
        "spark_test = spark_test.na.drop(subset=[\"User-ID\", \"ISBN\", \"Book-Rating\"])"
      ],
      "outputs": [],
      "execution_count": 71,
      "metadata": {
        "gather": {
          "logged": 1752973705612
        }
      }
    },
    {
      "cell_type": "code",
      "source": [
        "spark_test.select([count(when(isnan(c), c)).alias(c) for c in spark_test.columns]).show()"
      ],
      "outputs": [
        {
          "output_type": "stream",
          "name": "stdout",
          "text": "+-----------+----+-------+-------+\n|Book-Rating|ISBN|User-ID|Book-ID|\n+-----------+----+-------+-------+\n|          0|   0|      0|      0|\n+-----------+----+-------+-------+\n\n"
        }
      ],
      "execution_count": 72,
      "metadata": {
        "gather": {
          "logged": 1752973705992
        }
      }
    },
    {
      "cell_type": "code",
      "source": [
        "spark_test.count()"
      ],
      "outputs": [
        {
          "output_type": "execute_result",
          "execution_count": 73,
          "data": {
            "text/plain": "18526"
          },
          "metadata": {}
        }
      ],
      "execution_count": 73,
      "metadata": {
        "gather": {
          "logged": 1752973706458
        }
      }
    },
    {
      "cell_type": "markdown",
      "source": [
        "First, I will train the ALS algorithm with default values of 10 latent factors, 5 iterations for ALS, and a cost parameter of 0.1."
      ],
      "metadata": {
        "nteract": {
          "transient": {
            "deleting": false
          }
        }
      }
    },
    {
      "cell_type": "code",
      "source": [
        "als = ALS(\n",
        "    userCol=\"User-ID\",\n",
        "    itemCol=\"Book-ID\",\n",
        "    ratingCol='Book-Rating',\n",
        "    coldStartStrategy=\"drop\",\n",
        "    implicitPrefs=False,\n",
        "    nonnegative=True,\n",
        "    rank = 10, seed = 100)\n",
        "\n",
        "als.setMaxIter(5)\n",
        "als.setRegParam(0.1)\n"
      ],
      "outputs": [
        {
          "output_type": "execute_result",
          "execution_count": 74,
          "data": {
            "text/plain": "ALS_3fa36a0d400e"
          },
          "metadata": {}
        }
      ],
      "execution_count": 74,
      "metadata": {
        "gather": {
          "logged": 1752973706927
        }
      }
    },
    {
      "cell_type": "code",
      "source": [
        "als_model = als.fit(spark_train)"
      ],
      "outputs": [
        {
          "output_type": "stream",
          "name": "stderr",
          "text": "                                                                                \r"
        }
      ],
      "execution_count": 75,
      "metadata": {
        "gather": {
          "logged": 1752973709367
        }
      }
    },
    {
      "cell_type": "markdown",
      "source": [
        "Next, I generate predictions for the test set."
      ],
      "metadata": {
        "nteract": {
          "transient": {
            "deleting": false
          }
        }
      }
    },
    {
      "cell_type": "code",
      "source": [
        "predictions = als_model.transform(spark_test)"
      ],
      "outputs": [],
      "execution_count": 76,
      "metadata": {
        "gather": {
          "logged": 1752973709726
        }
      }
    },
    {
      "cell_type": "code",
      "source": [
        "predictions.show()"
      ],
      "outputs": [
        {
          "output_type": "stream",
          "name": "stdout",
          "text": "+-----------+----------+-------+-------+----------+\n|Book-Rating|      ISBN|User-ID|Book-ID|prediction|\n+-----------+----------+-------+-------+----------+\n|        8.0|0553099604| 178199|   4176|  6.662157|\n|       10.0|0140280553|  23571|   1109|  8.135994|\n|        4.0|0842329250| 161234|    476| 3.7380304|\n|        8.0|0440195934| 245534|   3759| 6.9911695|\n|        7.0|0156005891|  75149|   1022|  7.939999|\n|       10.0|0312305060| 271000|     76|  6.829071|\n|        9.0|0375727345| 132171|     20| 6.7211914|\n|       10.0|0345384911|  78440|   2181| 7.4711566|\n|        5.0|0451207521| 245534|    961| 7.2120132|\n|        7.0|0373484410|  78440|    773|  6.857996|\n|        9.0|0385335482|  15957|     42|    7.9587|\n|        8.0|0425120279| 274549|   1447| 7.5680575|\n|        8.0|068486424X| 268622|   3837| 3.6745436|\n|        9.0|0446310786| 105536|     45|  8.967568|\n|        6.0|0446519138| 178199|    715| 7.7676287|\n|        5.0|0440224624| 245534|    290| 6.1577606|\n|        9.0|0380732688| 178199|   2662|  8.331114|\n|        9.0|0345285980|  78440|   4478|  7.441805|\n|       10.0|0140258795|  23571|   2760|  8.750795|\n|        8.0|0446527297| 178199|   4536| 7.6721396|\n+-----------+----------+-------+-------+----------+\nonly showing top 20 rows\n\n"
        }
      ],
      "execution_count": 77,
      "metadata": {
        "gather": {
          "logged": 1752973710594
        }
      }
    },
    {
      "cell_type": "code",
      "source": [
        "predictions.select(\"prediction\").summary().show()"
      ],
      "outputs": [
        {
          "output_type": "stream",
          "name": "stderr",
          "text": "                                                                                \r"
        },
        {
          "output_type": "stream",
          "name": "stdout",
          "text": "+-------+-----------------+\n|summary|       prediction|\n+-------+-----------------+\n|  count|            18506|\n|   mean|  7.4400059735145|\n| stddev|1.496952064713701|\n|    min|              0.0|\n|    25%|        6.5042057|\n|    50%|         7.516905|\n|    75%|          8.48151|\n|    max|        12.176426|\n+-------+-----------------+\n\n"
        }
      ],
      "execution_count": 78,
      "metadata": {
        "gather": {
          "logged": 1752973712657
        }
      }
    },
    {
      "cell_type": "markdown",
      "source": [
        "Some of the predicted values are above 10, the max rating. There is no way to directly control for this in matrix factorization. Thus, I will cutoff any ratings that are above 10 to the max value of 10."
      ],
      "metadata": {
        "nteract": {
          "transient": {
            "deleting": false
          }
        }
      }
    },
    {
      "cell_type": "code",
      "source": [
        "predictions = predictions.withColumn(\n",
        "    'prediction_capped',\n",
        "    when(col('prediction') > 10, 10).otherwise(col('prediction'))\n",
        ")"
      ],
      "outputs": [],
      "execution_count": 79,
      "metadata": {
        "gather": {
          "logged": 1752973713054
        }
      }
    },
    {
      "cell_type": "code",
      "source": [
        "predictions.show()"
      ],
      "outputs": [
        {
          "output_type": "stream",
          "name": "stderr",
          "text": "\r                                                                                \r"
        }
      ],
      "execution_count": 80,
      "metadata": {
        "gather": {
          "logged": 1752973714535
        }
      }
    },
    {
      "cell_type": "markdown",
      "source": [
        "Next, I calculate error metrics."
      ],
      "metadata": {
        "nteract": {
          "transient": {
            "deleting": false
          }
        }
      }
    },
    {
      "cell_type": "code",
      "source": [
        "evaluator_rmse = RegressionEvaluator(metricName='rmse', labelCol='Book-Rating', predictionCol='prediction_capped')\n",
        "als_rmse = evaluator_rmse.evaluate(predictions)\n",
        "\n",
        "evaluator_mse = RegressionEvaluator(metricName='mse', labelCol='Book-Rating', predictionCol='prediction_capped')\n",
        "als_mse = evaluator_mse.evaluate(predictions)\n",
        "\n",
        "evaluator_mae = RegressionEvaluator(metricName='mae', labelCol='Book-Rating', predictionCol='prediction_capped')\n",
        "als_mae = evaluator_mae.evaluate(predictions)"
      ],
      "outputs": [
        {
          "output_type": "stream",
          "name": "stderr",
          "text": "                                                                                \r"
        }
      ],
      "execution_count": 81,
      "metadata": {
        "gather": {
          "logged": 1752973718352
        }
      }
    },
    {
      "cell_type": "code",
      "source": [
        "metrics_df.loc[len(metrics_df)] = [als_rmse, als_mse, als_mae]\n",
        "\n",
        "metrics_df = metrics_df.rename(index={ (metrics_df.shape[0] - 1): \"als\" })"
      ],
      "outputs": [],
      "execution_count": 82,
      "metadata": {
        "gather": {
          "logged": 1752973718803
        }
      }
    },
    {
      "cell_type": "code",
      "source": [
        "metrics_df"
      ],
      "outputs": [
        {
          "output_type": "execute_result",
          "execution_count": 83,
          "data": {
            "text/plain": "         rmse      mse       mae\nsvd  2.769073  2.14396  7.667764\nals  1.872723  3.50709  1.432630",
            "text/html": "<div>\n<style scoped>\n    .dataframe tbody tr th:only-of-type {\n        vertical-align: middle;\n    }\n\n    .dataframe tbody tr th {\n        vertical-align: top;\n    }\n\n    .dataframe thead th {\n        text-align: right;\n    }\n</style>\n<table border=\"1\" class=\"dataframe\">\n  <thead>\n    <tr style=\"text-align: right;\">\n      <th></th>\n      <th>rmse</th>\n      <th>mse</th>\n      <th>mae</th>\n    </tr>\n  </thead>\n  <tbody>\n    <tr>\n      <th>svd</th>\n      <td>2.769073</td>\n      <td>2.14396</td>\n      <td>7.667764</td>\n    </tr>\n    <tr>\n      <th>als</th>\n      <td>1.872723</td>\n      <td>3.50709</td>\n      <td>1.432630</td>\n    </tr>\n  </tbody>\n</table>\n</div>"
          },
          "metadata": {}
        }
      ],
      "execution_count": 83,
      "metadata": {
        "gather": {
          "logged": 1752973719225
        }
      }
    },
    {
      "cell_type": "markdown",
      "source": [
        "Next, I will try tuning the hyper parameters to see if there is an improvement in performance."
      ],
      "metadata": {
        "nteract": {
          "transient": {
            "deleting": false
          }
        }
      }
    },
    {
      "cell_type": "code",
      "source": [
        "als_tuned =ALS(userCol=\"User-ID\",\n",
        "    itemCol=\"Book-ID\",\n",
        "    ratingCol='Book-Rating',\n",
        "    coldStartStrategy=\"drop\",\n",
        "    implicitPrefs=False,\n",
        "    nonnegative=True)\n",
        "\n",
        "param_grid = ParamGridBuilder()\\\n",
        "             .addGrid(als.rank, [20, 30, 40])\\\n",
        "             .addGrid(als.maxIter, [20])\\\n",
        "             .addGrid(als.regParam, [.05, .15])\\\n",
        "             .build()"
      ],
      "outputs": [],
      "execution_count": 84,
      "metadata": {
        "gather": {
          "logged": 1752973719585
        }
      }
    },
    {
      "cell_type": "code",
      "source": [
        "evaluator_rmse = RegressionEvaluator(metricName='rmse', labelCol='Book-Rating', predictionCol='prediction')\n",
        "\n",
        "cv = CrossValidator(\n",
        "        estimator=als_tuned,\n",
        "        estimatorParamMaps=param_grid,\n",
        "        evaluator=evaluator_rmse,\n",
        "        numFolds=3)"
      ],
      "outputs": [],
      "execution_count": 85,
      "metadata": {
        "gather": {
          "logged": 1752973719891
        }
      }
    },
    {
      "cell_type": "code",
      "source": [
        "als_tuned_model = cv.fit(spark_train)"
      ],
      "outputs": [
        {
          "output_type": "stream",
          "name": "stdout",
          "text": "25/07/20 01:08:38 WARN TaskSetManager: Stage 272 contains a task of very large size (2597 KiB). The maximum recommended task size is 1000 KiB.\n25/07/20 01:08:47 WARN TaskSetManager: Stage 383 contains a task of very large size (2597 KiB). The maximum recommended task size is 1000 KiB.\n25/07/20 01:08:47 WARN TaskSetManager: Stage 384 contains a task of very large size (2597 KiB). The maximum recommended task size is 1000 KiB.\n25/07/20 01:08:54 WARN TaskSetManager: Stage 437 contains a task of very large size (2597 KiB). The maximum recommended task size is 1000 KiB.\n25/07/20 01:08:55 WARN TaskSetManager: Stage 495 contains a task of very large size (2597 KiB). The maximum recommended task size is 1000 KiB.\n25/07/20 01:08:55 WARN TaskSetManager: Stage 496 contains a task of very large size (2597 KiB). The maximum recommended task size is 1000 KiB.\n25/07/20 01:09:01 WARN TaskSetManager: Stage 549 contains a task of very large size (2597 KiB). The maximum recommended task size is 1000 KiB.\n25/07/20 01:09:02 WARN TaskSetManager: Stage 607 contains a task of very large size (2597 KiB). The maximum recommended task size is 1000 KiB.\n25/07/20 01:09:02 WARN TaskSetManager: Stage 608 contains a task of very large size (2597 KiB). The maximum recommended task size is 1000 KiB.\n25/07/20 01:09:08 WARN TaskSetManager: Stage 661 contains a task of very large size (2597 KiB). The maximum recommended task size is 1000 KiB.\n25/07/20 01:09:09 WARN TaskSetManager: Stage 719 contains a task of very large size (2597 KiB). The maximum recommended task size is 1000 KiB.\n25/07/20 01:09:09 WARN TaskSetManager: Stage 720 contains a task of very large size (2597 KiB). The maximum recommended task size is 1000 KiB.\n25/07/20 01:09:15 WARN TaskSetManager: Stage 773 contains a task of very large size (2597 KiB). The maximum recommended task size is 1000 KiB.\n25/07/20 01:09:15 WARN TaskSetManager: Stage 828 contains a task of very large size (2597 KiB). The maximum recommended task size is 1000 KiB.\n25/07/20 01:09:15 WARN TaskSetManager: Stage 829 contains a task of very large size (2597 KiB). The maximum recommended task size is 1000 KiB.\n25/07/20 01:09:21 WARN TaskSetManager: Stage 882 contains a task of very large size (2597 KiB). The maximum recommended task size is 1000 KiB.\n25/07/20 01:09:22 WARN TaskSetManager: Stage 940 contains a task of very large size (2597 KiB). The maximum recommended task size is 1000 KiB.\n25/07/20 01:09:22 WARN TaskSetManager: Stage 941 contains a task of very large size (2597 KiB). The maximum recommended task size is 1000 KiB.\n25/07/20 01:09:29 WARN TaskSetManager: Stage 1049 contains a task of very large size (2597 KiB). The maximum recommended task size is 1000 KiB.\n25/07/20 01:09:29 WARN TaskSetManager: Stage 1050 contains a task of very large size (2597 KiB). The maximum recommended task size is 1000 KiB.\n25/07/20 01:09:35 WARN TaskSetManager: Stage 1103 contains a task of very large size (2597 KiB). The maximum recommended task size is 1000 KiB.\n25/07/20 01:09:35 WARN TaskSetManager: Stage 1136 contains a task of very large size (2597 KiB). The maximum recommended task size is 1000 KiB.\n25/07/20 01:09:35 WARN TaskSetManager: Stage 1137 contains a task of very large size (2597 KiB). The maximum recommended task size is 1000 KiB.\n25/07/20 01:09:41 WARN TaskSetManager: Stage 1190 contains a task of very large size (2597 KiB). The maximum recommended task size is 1000 KiB.\n25/07/20 01:09:41 WARN TaskSetManager: Stage 1245 contains a task of very large size (2597 KiB). The maximum recommended task size is 1000 KiB.\n25/07/20 01:09:42 WARN TaskSetManager: Stage 1246 contains a task of very large size (2597 KiB). The maximum recommended task size is 1000 KiB.\n25/07/20 01:09:47 WARN TaskSetManager: Stage 1299 contains a task of very large size (2597 KiB). The maximum recommended task size is 1000 KiB.\n25/07/20 01:09:48 WARN TaskSetManager: Stage 1354 contains a task of very large size (2597 KiB). The maximum recommended task size is 1000 KiB.\n25/07/20 01:09:48 WARN TaskSetManager: Stage 1355 contains a task of very large size (2597 KiB). The maximum recommended task size is 1000 KiB.\n25/07/20 01:09:53 WARN TaskSetManager: Stage 1408 contains a task of very large size (2597 KiB). The maximum recommended task size is 1000 KiB.\n25/07/20 01:09:54 WARN TaskSetManager: Stage 1441 contains a task of very large size (2597 KiB). The maximum recommended task size is 1000 KiB.\n25/07/20 01:09:54 WARN TaskSetManager: Stage 1442 contains a task of very large size (2597 KiB). The maximum recommended task size is 1000 KiB.\n25/07/20 01:09:59 WARN TaskSetManager: Stage 1495 contains a task of very large size (2597 KiB). The maximum recommended task size is 1000 KiB.\n25/07/20 01:10:00 WARN TaskSetManager: Stage 1553 contains a task of very large size (2597 KiB). The maximum recommended task size is 1000 KiB.\n25/07/20 01:10:00 WARN TaskSetManager: Stage 1554 contains a task of very large size (2597 KiB). The maximum recommended task size is 1000 KiB.\n25/07/20 01:10:07 WARN TaskSetManager: Stage 1662 contains a task of very large size (2597 KiB). The maximum recommended task size is 1000 KiB.\n25/07/20 01:10:07 WARN TaskSetManager: Stage 1663 contains a task of very large size (2597 KiB). The maximum recommended task size is 1000 KiB.\n25/07/20 01:10:13 WARN TaskSetManager: Stage 1716 contains a task of very large size (2597 KiB). The maximum recommended task size is 1000 KiB.\n25/07/20 01:10:13 WARN TaskSetManager: Stage 1774 contains a task of very large size (2597 KiB). The maximum recommended task size is 1000 KiB.\n25/07/20 01:10:13 WARN TaskSetManager: Stage 1775 contains a task of very large size (2597 KiB). The maximum recommended task size is 1000 KiB.\n25/07/20 01:10:18 WARN TaskSetManager: Stage 1828 contains a task of very large size (2597 KiB). The maximum recommended task size is 1000 KiB.\n25/07/20 01:10:19 WARN TaskSetManager: Stage 1883 contains a task of very large size (2597 KiB). The maximum recommended task size is 1000 KiB.\n25/07/20 01:10:19 WARN TaskSetManager: Stage 1884 contains a task of very large size (2597 KiB). The maximum recommended task size is 1000 KiB.\n25/07/20 01:10:24 WARN TaskSetManager: Stage 1937 contains a task of very large size (2597 KiB). The maximum recommended task size is 1000 KiB.\n25/07/20 01:10:25 WARN TaskSetManager: Stage 1995 contains a task of very large size (2597 KiB). The maximum recommended task size is 1000 KiB.\n25/07/20 01:10:25 WARN TaskSetManager: Stage 1996 contains a task of very large size (2597 KiB). The maximum recommended task size is 1000 KiB.\n25/07/20 01:10:30 WARN TaskSetManager: Stage 2049 contains a task of very large size (2597 KiB). The maximum recommended task size is 1000 KiB.\n25/07/20 01:10:31 WARN TaskSetManager: Stage 2082 contains a task of very large size (2597 KiB). The maximum recommended task size is 1000 KiB.\n25/07/20 01:10:31 WARN TaskSetManager: Stage 2083 contains a task of very large size (2597 KiB). The maximum recommended task size is 1000 KiB.\n25/07/20 01:10:36 WARN TaskSetManager: Stage 2136 contains a task of very large size (2597 KiB). The maximum recommended task size is 1000 KiB.\n25/07/20 01:10:36 WARN TaskSetManager: Stage 2194 contains a task of very large size (2597 KiB). The maximum recommended task size is 1000 KiB.\n25/07/20 01:10:37 WARN TaskSetManager: Stage 2195 contains a task of very large size (2597 KiB). The maximum recommended task size is 1000 KiB.\n"
        },
        {
          "output_type": "stream",
          "name": "stderr",
          "text": "                                                                                \r"
        }
      ],
      "execution_count": 86,
      "metadata": {
        "gather": {
          "logged": 1752973843525
        }
      }
    },
    {
      "cell_type": "code",
      "source": [
        "final_tuned_model = als_tuned_model.bestModel\n"
      ],
      "outputs": [],
      "execution_count": 87,
      "metadata": {
        "gather": {
          "logged": 1752973843865
        }
      }
    },
    {
      "cell_type": "code",
      "source": [
        "print('rank: ', final_tuned_model.rank)\n",
        "print('MaxIter: ', final_tuned_model._java_obj.parent().getMaxIter())\n",
        "print('RegParam: ', final_tuned_model._java_obj.parent().getRegParam())"
      ],
      "outputs": [
        {
          "output_type": "stream",
          "name": "stdout",
          "text": "rank:  10\nMaxIter:  10\nRegParam:  0.1\n"
        }
      ],
      "execution_count": 88,
      "metadata": {
        "gather": {
          "logged": 1752973844242
        }
      }
    },
    {
      "cell_type": "markdown",
      "source": [
        "The hyperparameters of the best performing model were similar to the default values tried earlier."
      ],
      "metadata": {
        "nteract": {
          "transient": {
            "deleting": false
          }
        }
      }
    },
    {
      "cell_type": "markdown",
      "source": [
        "Below I generate predictions and track the performance. Similar to before, predictions above a value of 10 will be capped at 10."
      ],
      "metadata": {
        "nteract": {
          "transient": {
            "deleting": false
          }
        }
      }
    },
    {
      "cell_type": "code",
      "source": [
        "predictions_tuned = als_tuned_model.bestModel.transform(spark_test)"
      ],
      "outputs": [],
      "execution_count": 89,
      "metadata": {
        "gather": {
          "logged": 1752973844645
        }
      }
    },
    {
      "cell_type": "code",
      "source": [
        "predictions_tuned.show()"
      ],
      "outputs": [
        {
          "output_type": "stream",
          "name": "stdout",
          "text": "+-----------+----------+-------+-------+----------+\n|Book-Rating|      ISBN|User-ID|Book-ID|prediction|\n+-----------+----------+-------+-------+----------+\n|        8.0|0553099604| 178199|   4176|  6.569359|\n|       10.0|0140280553|  23571|   1109|  9.458058|\n|        4.0|0842329250| 161234|    476|  4.145751|\n|        8.0|0440195934| 245534|   3759|  6.170793|\n|        7.0|0156005891|  75149|   1022|  5.432569|\n|       10.0|0312305060| 271000|     76|  5.924842|\n|        9.0|0375727345| 132171|     20| 6.8241224|\n|       10.0|0345384911|  78440|   2181| 6.5039816|\n|        5.0|0451207521| 245534|    961| 7.3326364|\n|        7.0|0373484410|  78440|    773| 7.2826796|\n|        9.0|0385335482|  15957|     42|  5.880274|\n|        8.0|0425120279| 274549|   1447|  7.971946|\n|        8.0|068486424X| 268622|   3837|  7.915738|\n|        9.0|0446310786| 105536|     45|  9.980507|\n|        6.0|0446519138| 178199|    715|  9.456108|\n|        5.0|0440224624| 245534|    290|  5.401809|\n|        9.0|0380732688| 178199|   2662| 7.6418257|\n|        9.0|0345285980|  78440|   4478|  7.721897|\n|       10.0|0140258795|  23571|   2760|  9.888049|\n|        8.0|0446527297| 178199|   4536| 6.6975145|\n+-----------+----------+-------+-------+----------+\nonly showing top 20 rows\n\n"
        }
      ],
      "execution_count": 90,
      "metadata": {
        "gather": {
          "logged": 1752973845056
        }
      }
    },
    {
      "cell_type": "code",
      "source": [
        "predictions_tuned.select(\"prediction\") \\\n",
        "           .summary() \\\n",
        "           .show()"
      ],
      "outputs": [
        {
          "output_type": "stream",
          "name": "stdout",
          "text": "+-------+------------------+\n|summary|        prediction|\n+-------+------------------+\n|  count|             18506|\n|   mean| 7.374750154908381|\n| stddev|1.4673478192089586|\n|    min|         0.5074313|\n|    25%|         6.4415355|\n|    50%|         7.4560103|\n|    75%|          8.385116|\n|    max|         12.083034|\n+-------+------------------+\n\n"
        }
      ],
      "execution_count": 91,
      "metadata": {
        "gather": {
          "logged": 1752973845567
        }
      }
    },
    {
      "cell_type": "code",
      "source": [
        "predictions_tuned = predictions_tuned.withColumn(\n",
        "    'prediction_capped',\n",
        "    when(col('prediction') > 10, 10).otherwise(col('prediction'))\n",
        ")"
      ],
      "outputs": [],
      "execution_count": 92,
      "metadata": {
        "gather": {
          "logged": 1752973845971
        }
      }
    },
    {
      "cell_type": "code",
      "source": [
        "evaluator_rmse = RegressionEvaluator(metricName='rmse', labelCol='Book-Rating', predictionCol='prediction_capped')\n",
        "rmse_tuned = evaluator_rmse.evaluate(predictions_tuned)\n",
        "\n",
        "mse_tuned = evaluator_mse.evaluate(predictions_tuned)\n",
        "\n",
        "mae_tuned = evaluator_mae.evaluate(predictions_tuned)\n"
      ],
      "outputs": [],
      "execution_count": 93,
      "metadata": {
        "gather": {
          "logged": 1752973848203
        }
      }
    },
    {
      "cell_type": "code",
      "source": [
        "metrics_df.loc[len(metrics_df)] = [rmse_tuned, mse_tuned, mae_tuned]\n",
        "metrics_df = metrics_df.rename(index={ (metrics_df.shape[0] - 1): \"pyspark_als_tuned\" })"
      ],
      "outputs": [],
      "execution_count": 94,
      "metadata": {
        "gather": {
          "logged": 1752973848626
        }
      }
    },
    {
      "cell_type": "code",
      "source": [
        "metrics_df"
      ],
      "outputs": [
        {
          "output_type": "execute_result",
          "execution_count": 95,
          "data": {
            "text/plain": "                       rmse       mse       mae\nsvd                2.769073  2.143960  7.667764\nals                1.872723  3.507090  1.432630\npyspark_als_tuned  1.855174  3.441669  1.427508",
            "text/html": "<div>\n<style scoped>\n    .dataframe tbody tr th:only-of-type {\n        vertical-align: middle;\n    }\n\n    .dataframe tbody tr th {\n        vertical-align: top;\n    }\n\n    .dataframe thead th {\n        text-align: right;\n    }\n</style>\n<table border=\"1\" class=\"dataframe\">\n  <thead>\n    <tr style=\"text-align: right;\">\n      <th></th>\n      <th>rmse</th>\n      <th>mse</th>\n      <th>mae</th>\n    </tr>\n  </thead>\n  <tbody>\n    <tr>\n      <th>svd</th>\n      <td>2.769073</td>\n      <td>2.143960</td>\n      <td>7.667764</td>\n    </tr>\n    <tr>\n      <th>als</th>\n      <td>1.872723</td>\n      <td>3.507090</td>\n      <td>1.432630</td>\n    </tr>\n    <tr>\n      <th>pyspark_als_tuned</th>\n      <td>1.855174</td>\n      <td>3.441669</td>\n      <td>1.427508</td>\n    </tr>\n  </tbody>\n</table>\n</div>"
          },
          "metadata": {}
        }
      ],
      "execution_count": 95,
      "metadata": {
        "gather": {
          "logged": 1752973849032
        }
      }
    },
    {
      "cell_type": "code",
      "source": [
        "spark.stop()"
      ],
      "outputs": [],
      "execution_count": 96,
      "metadata": {
        "gather": {
          "logged": 1752973849469
        }
      }
    },
    {
      "cell_type": "code",
      "source": [
        "metrics_df"
      ],
      "outputs": [
        {
          "output_type": "execute_result",
          "execution_count": 97,
          "data": {
            "text/plain": "                       rmse       mse       mae\nsvd                2.769073  2.143960  7.667764\nals                1.872723  3.507090  1.432630\npyspark_als_tuned  1.855174  3.441669  1.427508",
            "text/html": "<div>\n<style scoped>\n    .dataframe tbody tr th:only-of-type {\n        vertical-align: middle;\n    }\n\n    .dataframe tbody tr th {\n        vertical-align: top;\n    }\n\n    .dataframe thead th {\n        text-align: right;\n    }\n</style>\n<table border=\"1\" class=\"dataframe\">\n  <thead>\n    <tr style=\"text-align: right;\">\n      <th></th>\n      <th>rmse</th>\n      <th>mse</th>\n      <th>mae</th>\n    </tr>\n  </thead>\n  <tbody>\n    <tr>\n      <th>svd</th>\n      <td>2.769073</td>\n      <td>2.143960</td>\n      <td>7.667764</td>\n    </tr>\n    <tr>\n      <th>als</th>\n      <td>1.872723</td>\n      <td>3.507090</td>\n      <td>1.432630</td>\n    </tr>\n    <tr>\n      <th>pyspark_als_tuned</th>\n      <td>1.855174</td>\n      <td>3.441669</td>\n      <td>1.427508</td>\n    </tr>\n  </tbody>\n</table>\n</div>"
          },
          "metadata": {}
        }
      ],
      "execution_count": 97,
      "metadata": {
        "gather": {
          "logged": 1752973850895
        }
      }
    },
    {
      "cell_type": "markdown",
      "source": [
        "## Global baseline model"
      ],
      "metadata": {
        "nteract": {
          "transient": {
            "deleting": false
          }
        }
      }
    },
    {
      "cell_type": "markdown",
      "source": [
        "Next, I generate a baseline model that simply predicts the global average for every prediction. This is used as a benchmark for comparison and evaluation purposes of more complex models."
      ],
      "metadata": {
        "nteract": {
          "transient": {
            "deleting": false
          }
        }
      }
    },
    {
      "cell_type": "code",
      "source": [
        "global_avg = round(train['Book-Rating'].mean())"
      ],
      "outputs": [],
      "execution_count": 98,
      "metadata": {
        "gather": {
          "logged": 1752973851461
        }
      }
    },
    {
      "cell_type": "code",
      "source": [
        "test.head()"
      ],
      "outputs": [
        {
          "output_type": "execute_result",
          "execution_count": 99,
          "data": {
            "text/plain": "         User-ID        ISBN  Book-Rating\n580347    139827  042514545X          NaN\n350901     84024  0440224675          NaN\n1055057   251844  0345369947          NaN\n1014480   243075  059045370X          5.0\n37553       8936  0425158616          NaN",
            "text/html": "<div>\n<style scoped>\n    .dataframe tbody tr th:only-of-type {\n        vertical-align: middle;\n    }\n\n    .dataframe tbody tr th {\n        vertical-align: top;\n    }\n\n    .dataframe thead th {\n        text-align: right;\n    }\n</style>\n<table border=\"1\" class=\"dataframe\">\n  <thead>\n    <tr style=\"text-align: right;\">\n      <th></th>\n      <th>User-ID</th>\n      <th>ISBN</th>\n      <th>Book-Rating</th>\n    </tr>\n  </thead>\n  <tbody>\n    <tr>\n      <th>580347</th>\n      <td>139827</td>\n      <td>042514545X</td>\n      <td>NaN</td>\n    </tr>\n    <tr>\n      <th>350901</th>\n      <td>84024</td>\n      <td>0440224675</td>\n      <td>NaN</td>\n    </tr>\n    <tr>\n      <th>1055057</th>\n      <td>251844</td>\n      <td>0345369947</td>\n      <td>NaN</td>\n    </tr>\n    <tr>\n      <th>1014480</th>\n      <td>243075</td>\n      <td>059045370X</td>\n      <td>5.0</td>\n    </tr>\n    <tr>\n      <th>37553</th>\n      <td>8936</td>\n      <td>0425158616</td>\n      <td>NaN</td>\n    </tr>\n  </tbody>\n</table>\n</div>"
          },
          "metadata": {}
        }
      ],
      "execution_count": 99,
      "metadata": {
        "gather": {
          "logged": 1752973851888
        }
      }
    },
    {
      "cell_type": "code",
      "source": [
        "baseline_rmse = np.sqrt((((test['Book-Rating'] - global_avg)**2).sum())/(test['Book-Rating'].count()))\n"
      ],
      "outputs": [],
      "execution_count": 100,
      "metadata": {
        "gather": {
          "logged": 1752973852259
        }
      }
    },
    {
      "cell_type": "code",
      "source": [
        "baseline_mae = abs(test['Book-Rating'] - global_avg).sum()/(test['Book-Rating'].count())\n"
      ],
      "outputs": [],
      "execution_count": 101,
      "metadata": {
        "gather": {
          "logged": 1752973852586
        }
      }
    },
    {
      "cell_type": "code",
      "source": [
        "baseline_mse = (((test['Book-Rating'] - global_avg)**2).sum())/(test['Book-Rating'].count())\n"
      ],
      "outputs": [],
      "execution_count": 102,
      "metadata": {
        "gather": {
          "logged": 1752973852919
        }
      }
    },
    {
      "cell_type": "code",
      "source": [
        "metrics_df.loc[len(metrics_df)] = [baseline_rmse, baseline_mse, baseline_mae]\n",
        "metrics_df = metrics_df.rename(index={ (metrics_df.shape[0] - 1): \"global_baseline\" })"
      ],
      "outputs": [],
      "execution_count": 103,
      "metadata": {
        "gather": {
          "logged": 1752973853260
        }
      }
    },
    {
      "cell_type": "markdown",
      "source": [
        "## Conclusion"
      ],
      "metadata": {
        "nteract": {
          "transient": {
            "deleting": false
          }
        }
      }
    },
    {
      "cell_type": "code",
      "source": [
        "metrics_df"
      ],
      "outputs": [
        {
          "output_type": "execute_result",
          "execution_count": 104,
          "data": {
            "text/plain": "                       rmse       mse       mae\nsvd                2.769073  2.143960  7.667764\nals                1.872723  3.507090  1.432630\npyspark_als_tuned  1.855174  3.441669  1.427508\nglobal_baseline    1.758387  3.091925  1.336662",
            "text/html": "<div>\n<style scoped>\n    .dataframe tbody tr th:only-of-type {\n        vertical-align: middle;\n    }\n\n    .dataframe tbody tr th {\n        vertical-align: top;\n    }\n\n    .dataframe thead th {\n        text-align: right;\n    }\n</style>\n<table border=\"1\" class=\"dataframe\">\n  <thead>\n    <tr style=\"text-align: right;\">\n      <th></th>\n      <th>rmse</th>\n      <th>mse</th>\n      <th>mae</th>\n    </tr>\n  </thead>\n  <tbody>\n    <tr>\n      <th>svd</th>\n      <td>2.769073</td>\n      <td>2.143960</td>\n      <td>7.667764</td>\n    </tr>\n    <tr>\n      <th>als</th>\n      <td>1.872723</td>\n      <td>3.507090</td>\n      <td>1.432630</td>\n    </tr>\n    <tr>\n      <th>pyspark_als_tuned</th>\n      <td>1.855174</td>\n      <td>3.441669</td>\n      <td>1.427508</td>\n    </tr>\n    <tr>\n      <th>global_baseline</th>\n      <td>1.758387</td>\n      <td>3.091925</td>\n      <td>1.336662</td>\n    </tr>\n  </tbody>\n</table>\n</div>"
          },
          "metadata": {}
        }
      ],
      "execution_count": 104,
      "metadata": {
        "gather": {
          "logged": 1752973853936
        }
      }
    },
    {
      "cell_type": "markdown",
      "source": [
        "As seen in the metrics table above, all models failed to outperform the global baseline model, though the ALS model with hyperparameter tuning came the closest. While this dataset initially seemed to be a large dataset, it was found that the dataset was sparse as many items and users had few ratings (discussed in the exploratory analysis section). This likely posed a headwind for the matrix factorization algorithms used above, as highly sparse data makes it harder for these algorithms to accurately approximate user-item interactions. Lastly, ratings were not normalized for user and item biases in the interest of time. Normalizing may lead to performance improvements by removing user and item bias. I have found that the pipeline for normalizing data is easier in R than in Python.\n",
        "\n",
        "Content based filtering may have been useful in this scenario. For example, pulling book descriptions to create tf-idf measures and use those to create a similarity matrix could have helped in scenarios where a user or item only has a few ratings. Because other similar items are identified based on their descriptions, users that only rated a low amount of items would still be able to get served recommendations based on the descriptions of those books and their similarity to others. Unfortunately,  I ran into an API request limit when trying to pull descriptions for the books in the training and test sets.\n",
        "\n",
        "Another content based approach would have been to use Azure's computer vision to generate captions for book cover images. These captions could then also be analyzed for tf-idf in order to measure similarity among books. However, it seemed like this approach would be costly given the size of the original dataset and the cost to make calls to Azure's Computer Vision API.\n"
      ],
      "metadata": {
        "nteract": {
          "transient": {
            "deleting": false
          }
        }
      }
    }
  ],
  "metadata": {
    "kernelspec": {
      "name": "python38-azureml",
      "language": "python",
      "display_name": "Python 3.10 - AzureML"
    },
    "language_info": {
      "name": "python",
      "version": "3.10.11",
      "mimetype": "text/x-python",
      "codemirror_mode": {
        "name": "ipython",
        "version": 3
      },
      "pygments_lexer": "ipython3",
      "nbconvert_exporter": "python",
      "file_extension": ".py"
    },
    "microsoft": {
      "ms_spell_check": {
        "ms_spell_check_language": "en"
      },
      "host": {
        "AzureML": {
          "notebookHasBeenCompleted": true
        }
      }
    },
    "kernel_info": {
      "name": "python38-azureml"
    },
    "nteract": {
      "version": "nteract-front-end@1.0.0"
    }
  },
  "nbformat": 4,
  "nbformat_minor": 2
}