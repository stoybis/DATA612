{
 "cells": [
  {
   "cell_type": "markdown",
   "id": "acc40c7f-fb08-4a03-b40d-4769a4d1afab",
   "metadata": {},
   "source": [
    "# Discussion 1"
   ]
  },
  {
   "cell_type": "markdown",
   "id": "476a41c7-cd17-4f3c-abab-c2ee0d806925",
   "metadata": {},
   "source": [
    "## Basic Recommender Techniques"
   ]
  },
  {
   "cell_type": "markdown",
   "id": "e256a1f7-53ea-4627-9343-b9a417e0e6ec",
   "metadata": {},
   "source": [
    "Content-based filtering uses data based on a user’s prior interactions to generate recommendations that are similar in nature.  Collaborative filtering groups users together based on similarity of preferences and recommends items that appeal to the group.  \n",
    "A recommender system that I often interact with is Spotify’s recommendation engine. I would guess that Spotify uses a combination of the two methods above. For example, Spotify has data on songs that I interacted with (you can like songs on Spotify, but it’s also possible they have other features such as number of times listened, skips, etc.). Based on this, Spotify can identify the types of songs that I am interested in and recommend ones that I haven’t listened to. Additionally, given the large user base, Spotify likely aggregates users into groups and recommends similar songs to groups of users. This can be especially useful when a user’s individual interaction data is small (e.g., when a user just opened an account) while content based filtering can become more involved once a user has a large set of interaction data."
   ]
  },
  {
   "cell_type": "markdown",
   "id": "8622b5fa-75fa-4f18-aaad-b681c66628ea",
   "metadata": {},
   "source": [
    "## Attacks on Recommender Systems"
   ]
  },
  {
   "cell_type": "markdown",
   "id": "572d2e97-0f3b-4714-a348-5bc1e2dcdf0a",
   "metadata": {},
   "source": [
    "The Washington Post article Wisdom of the crowd? IMDb users gang up on Christian Bale’s new movie before it even opens describes how users collaborated to provide overwhelmingly negative reviews for an upcoming film. Rotten Tomatoes’ non-personalized recommendation system has a feature that can help in such a situation. The pop-corn meter, which aggregate ratings from audience viewers, has a feature that allows a viewer to filter audience ratings for ones that have been verified as having purchased a ticket to see the movie. While this is not foolproof (e.g. users can create fake proof of seeing a movie or buy tickets but still spam reviews), this feature could likely filter out many spam reviews who are submitting reviews purely for the purpose of spamming as these reviews require an extra step of showing proof of seeing the movie that can be hard to fake. Additionally, machine learning/artificial intelligence can be used to categorize reviews as spam based on a dataset of prior reviews (e.g. using naïve bayes to classify reviews as spam)."
   ]
  },
  {
   "cell_type": "markdown",
   "id": "a9717c75-db7c-495b-9c52-529e8b77c775",
   "metadata": {},
   "source": [
    "### References"
   ]
  },
  {
   "cell_type": "markdown",
   "id": "47bc259c-5859-4251-a000-6d5aa88a1f33",
   "metadata": {},
   "source": [
    "https://developers.google.com/machine-learning/recommendation/content-based/basics\n",
    "\n",
    "https://www.ibm.com/think/topics/collaborative-filtering#:~:text=Collaborative%20filtering%20is%20an%20information,have%20interacted%20with%20that%20item\n",
    "\n",
    "https://www.washingtonpost.com/news/morning-mix/wp/2017/04/19/wisdom-of-the-crowd-imdb-users-gang-up-on-the-promise-before-it-even-opens/\n",
    "\n",
    "https://www.rottentomatoes.com/about"
   ]
  }
 ],
 "metadata": {
  "kernelspec": {
   "display_name": "Python (DATA612)",
   "language": "python",
   "name": "data612"
  },
  "language_info": {
   "codemirror_mode": {
    "name": "ipython",
    "version": 3
   },
   "file_extension": ".py",
   "mimetype": "text/x-python",
   "name": "python",
   "nbconvert_exporter": "python",
   "pygments_lexer": "ipython3",
   "version": "3.12.2"
  }
 },
 "nbformat": 4,
 "nbformat_minor": 5
}
